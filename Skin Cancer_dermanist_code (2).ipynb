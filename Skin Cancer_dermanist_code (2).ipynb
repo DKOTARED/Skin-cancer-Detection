{
  "cells": [
    {
      "cell_type": "markdown",
      "metadata": {
        "id": "ZIvjJIBRWKU3"
      },
      "source": [
        "# Imports"
      ]
    },
    {
      "cell_type": "code",
      "source": [
        "pip install medmnist"
      ],
      "metadata": {
        "colab": {
          "base_uri": "https://localhost:8080/"
        },
        "id": "7pRyGhoYWW_G",
        "outputId": "aceb8c5c-09cc-403e-dd8a-1e832e73fdd9"
      },
      "execution_count": 1,
      "outputs": [
        {
          "output_type": "stream",
          "name": "stdout",
          "text": [
            "Collecting medmnist\n",
            "  Downloading medmnist-2.2.3-py3-none-any.whl (22 kB)\n",
            "Requirement already satisfied: numpy in /usr/local/lib/python3.10/dist-packages (from medmnist) (1.23.5)\n",
            "Requirement already satisfied: pandas in /usr/local/lib/python3.10/dist-packages (from medmnist) (1.5.3)\n",
            "Requirement already satisfied: scikit-learn in /usr/local/lib/python3.10/dist-packages (from medmnist) (1.2.2)\n",
            "Requirement already satisfied: scikit-image in /usr/local/lib/python3.10/dist-packages (from medmnist) (0.19.3)\n",
            "Requirement already satisfied: tqdm in /usr/local/lib/python3.10/dist-packages (from medmnist) (4.66.1)\n",
            "Requirement already satisfied: Pillow in /usr/local/lib/python3.10/dist-packages (from medmnist) (9.4.0)\n",
            "Collecting fire (from medmnist)\n",
            "  Downloading fire-0.5.0.tar.gz (88 kB)\n",
            "\u001b[2K     \u001b[90m━━━━━━━━━━━━━━━━━━━━━━━━━━━━━━━━━━━━━━━━\u001b[0m \u001b[32m88.3/88.3 kB\u001b[0m \u001b[31m3.0 MB/s\u001b[0m eta \u001b[36m0:00:00\u001b[0m\n",
            "\u001b[?25h  Preparing metadata (setup.py) ... \u001b[?25l\u001b[?25hdone\n",
            "Requirement already satisfied: torch in /usr/local/lib/python3.10/dist-packages (from medmnist) (2.1.0+cu118)\n",
            "Requirement already satisfied: torchvision in /usr/local/lib/python3.10/dist-packages (from medmnist) (0.16.0+cu118)\n",
            "Requirement already satisfied: six in /usr/local/lib/python3.10/dist-packages (from fire->medmnist) (1.16.0)\n",
            "Requirement already satisfied: termcolor in /usr/local/lib/python3.10/dist-packages (from fire->medmnist) (2.3.0)\n",
            "Requirement already satisfied: python-dateutil>=2.8.1 in /usr/local/lib/python3.10/dist-packages (from pandas->medmnist) (2.8.2)\n",
            "Requirement already satisfied: pytz>=2020.1 in /usr/local/lib/python3.10/dist-packages (from pandas->medmnist) (2023.3.post1)\n",
            "Requirement already satisfied: scipy>=1.4.1 in /usr/local/lib/python3.10/dist-packages (from scikit-image->medmnist) (1.11.4)\n",
            "Requirement already satisfied: networkx>=2.2 in /usr/local/lib/python3.10/dist-packages (from scikit-image->medmnist) (3.2.1)\n",
            "Requirement already satisfied: imageio>=2.4.1 in /usr/local/lib/python3.10/dist-packages (from scikit-image->medmnist) (2.31.6)\n",
            "Requirement already satisfied: tifffile>=2019.7.26 in /usr/local/lib/python3.10/dist-packages (from scikit-image->medmnist) (2023.9.26)\n",
            "Requirement already satisfied: PyWavelets>=1.1.1 in /usr/local/lib/python3.10/dist-packages (from scikit-image->medmnist) (1.5.0)\n",
            "Requirement already satisfied: packaging>=20.0 in /usr/local/lib/python3.10/dist-packages (from scikit-image->medmnist) (23.2)\n",
            "Requirement already satisfied: joblib>=1.1.1 in /usr/local/lib/python3.10/dist-packages (from scikit-learn->medmnist) (1.3.2)\n",
            "Requirement already satisfied: threadpoolctl>=2.0.0 in /usr/local/lib/python3.10/dist-packages (from scikit-learn->medmnist) (3.2.0)\n",
            "Requirement already satisfied: filelock in /usr/local/lib/python3.10/dist-packages (from torch->medmnist) (3.13.1)\n",
            "Requirement already satisfied: typing-extensions in /usr/local/lib/python3.10/dist-packages (from torch->medmnist) (4.5.0)\n",
            "Requirement already satisfied: sympy in /usr/local/lib/python3.10/dist-packages (from torch->medmnist) (1.12)\n",
            "Requirement already satisfied: jinja2 in /usr/local/lib/python3.10/dist-packages (from torch->medmnist) (3.1.2)\n",
            "Requirement already satisfied: fsspec in /usr/local/lib/python3.10/dist-packages (from torch->medmnist) (2023.6.0)\n",
            "Requirement already satisfied: triton==2.1.0 in /usr/local/lib/python3.10/dist-packages (from torch->medmnist) (2.1.0)\n",
            "Requirement already satisfied: requests in /usr/local/lib/python3.10/dist-packages (from torchvision->medmnist) (2.31.0)\n",
            "Requirement already satisfied: MarkupSafe>=2.0 in /usr/local/lib/python3.10/dist-packages (from jinja2->torch->medmnist) (2.1.3)\n",
            "Requirement already satisfied: charset-normalizer<4,>=2 in /usr/local/lib/python3.10/dist-packages (from requests->torchvision->medmnist) (3.3.2)\n",
            "Requirement already satisfied: idna<4,>=2.5 in /usr/local/lib/python3.10/dist-packages (from requests->torchvision->medmnist) (3.6)\n",
            "Requirement already satisfied: urllib3<3,>=1.21.1 in /usr/local/lib/python3.10/dist-packages (from requests->torchvision->medmnist) (2.0.7)\n",
            "Requirement already satisfied: certifi>=2017.4.17 in /usr/local/lib/python3.10/dist-packages (from requests->torchvision->medmnist) (2023.11.17)\n",
            "Requirement already satisfied: mpmath>=0.19 in /usr/local/lib/python3.10/dist-packages (from sympy->torch->medmnist) (1.3.0)\n",
            "Building wheels for collected packages: fire\n",
            "  Building wheel for fire (setup.py) ... \u001b[?25l\u001b[?25hdone\n",
            "  Created wheel for fire: filename=fire-0.5.0-py2.py3-none-any.whl size=116934 sha256=7cdb52f6ae7ed76e6b354aba077b10a2825a058057a84da5e24ce3217e29ab6d\n",
            "  Stored in directory: /root/.cache/pip/wheels/90/d4/f7/9404e5db0116bd4d43e5666eaa3e70ab53723e1e3ea40c9a95\n",
            "Successfully built fire\n",
            "Installing collected packages: fire, medmnist\n",
            "Successfully installed fire-0.5.0 medmnist-2.2.3\n"
          ]
        }
      ]
    },
    {
      "cell_type": "code",
      "execution_count": null,
      "metadata": {
        "ExecuteTime": {
          "end_time": "2022-03-10T14:21:07.389629Z",
          "start_time": "2022-03-10T14:21:03.686135Z"
        },
        "id": "_aZ8Co5zWKU4"
      },
      "outputs": [],
      "source": [
        "import numpy as np\n",
        "import pandas as pd\n",
        "import matplotlib.pyplot as plt\n",
        "\n",
        "import medmnist\n",
        "\n",
        "import tensorflow as tf\n",
        "from tensorflow.keras.utils import to_categorical"
      ]
    },
    {
      "cell_type": "markdown",
      "metadata": {
        "id": "uDgHLTq1WKU5"
      },
      "source": [
        "# Data Loading"
      ]
    },
    {
      "cell_type": "code",
      "execution_count": null,
      "metadata": {
        "ExecuteTime": {
          "end_time": "2022-03-10T14:21:07.400324Z",
          "start_time": "2022-03-10T14:21:07.392196Z"
        },
        "colab": {
          "base_uri": "https://localhost:8080/"
        },
        "id": "1SBFGQI0WKU5",
        "outputId": "df5c408c-fbdc-4b64-c770-ca8d6c02068f"
      },
      "outputs": [
        {
          "output_type": "execute_result",
          "data": {
            "text/plain": [
              "{'MD5': '0744692d530f8e62ec473284d019b0c7',\n",
              " 'description': 'The DermaMNIST is based on the HAM10000, a large collection of multi-source dermatoscopic images of common pigmented skin lesions. The dataset consists of 10,015 dermatoscopic images categorized as 7 different diseases, formulized as a multi-class classification task. We split the images into training, validation and test set with a ratio of 7:1:2. The source images of 3×600×450 are resized into 3×28×28.',\n",
              " 'label': {'0': 'actinic keratoses and intraepithelial carcinoma',\n",
              "  '1': 'basal cell carcinoma',\n",
              "  '2': 'benign keratosis-like lesions',\n",
              "  '3': 'dermatofibroma',\n",
              "  '4': 'melanoma',\n",
              "  '5': 'melanocytic nevi',\n",
              "  '6': 'vascular lesions'},\n",
              " 'license': 'CC BY-NC 4.0',\n",
              " 'n_channels': 3,\n",
              " 'n_samples': {'test': 2005, 'train': 7007, 'val': 1003},\n",
              " 'python_class': 'DermaMNIST',\n",
              " 'task': 'multi-class',\n",
              " 'url': 'https://zenodo.org/record/5208230/files/dermamnist.npz?download=1'}"
            ]
          },
          "metadata": {},
          "execution_count": 3
        }
      ],
      "source": [
        "# medmnist.INFO[\"retinamnist\"]\n",
        "medmnist.INFO[\"dermamnist\"]"
      ]
    },
    {
      "cell_type": "markdown",
      "metadata": {
        "id": "Nqw3KSlQWKU5"
      },
      "source": [
        "## Download"
      ]
    },
    {
      "cell_type": "code",
      "execution_count": null,
      "metadata": {
        "ExecuteTime": {
          "end_time": "2022-03-10T14:21:08.078045Z",
          "start_time": "2022-03-10T14:21:07.403197Z"
        },
        "colab": {
          "base_uri": "https://localhost:8080/",
          "height": 101,
          "referenced_widgets": [
            "222b0d11b2d846e5883eab1acfb043db",
            "8f733c2229f64eca81d508a9d81345cd",
            "971098983f994b3dbbf26624217d6552",
            "e5796f79655c40468adab3c86d9c4fb4",
            "0c5eb4d99bb444a8a18c43e7b3a35b0e",
            "0f958096761e4612b2aa7058bfab5ca9",
            "557cd7648d7f43b3b8217021800d0357",
            "c2a9864674ac46949a7cbc7c3898be3b",
            "142c4ef856a54b48ae2c93e93c68fd75",
            "93a9015515694345af33bfb4e2923bbf",
            "84ee2091dc154171808e92cc5b04052a"
          ]
        },
        "id": "O53aewnUWKU5",
        "outputId": "49335937-1d78-4718-dba2-fedcd1fd94b4"
      },
      "outputs": [
        {
          "output_type": "stream",
          "name": "stdout",
          "text": [
            "Downloading https://zenodo.org/record/5208230/files/dermamnist.npz?download=1 to /root/.medmnist/dermamnist.npz\n"
          ]
        },
        {
          "output_type": "display_data",
          "data": {
            "text/plain": [
              "  0%|          | 0/19725078 [00:00<?, ?it/s]"
            ],
            "application/vnd.jupyter.widget-view+json": {
              "version_major": 2,
              "version_minor": 0,
              "model_id": "222b0d11b2d846e5883eab1acfb043db"
            }
          },
          "metadata": {}
        },
        {
          "output_type": "stream",
          "name": "stdout",
          "text": [
            "Using downloaded and verified file: /root/.medmnist/dermamnist.npz\n",
            "Using downloaded and verified file: /root/.medmnist/dermamnist.npz\n"
          ]
        }
      ],
      "source": [
        "train_dataset = medmnist.dataset.DermaMNIST(split='train', download=True)\n",
        "test_dataset = medmnist.dataset.DermaMNIST(split='test', download=True)\n",
        "val_dataset = medmnist.dataset.DermaMNIST(split='val', download=True)"
      ]
    },
    {
      "cell_type": "markdown",
      "metadata": {
        "id": "8n7kPMioWKU5"
      },
      "source": [
        "## To Numpy"
      ]
    },
    {
      "cell_type": "code",
      "execution_count": null,
      "metadata": {
        "ExecuteTime": {
          "end_time": "2022-03-10T14:21:08.084575Z",
          "start_time": "2022-03-10T14:21:08.080739Z"
        },
        "id": "qmgeCSyBWKU6"
      },
      "outputs": [],
      "source": [
        "X_train = train_dataset.imgs\n",
        "X_val = val_dataset.imgs\n",
        "X_test = test_dataset.imgs\n",
        "\n",
        "y_train = train_dataset.labels\n",
        "y_val = val_dataset.labels\n",
        "y_test = test_dataset.labels"
      ]
    },
    {
      "cell_type": "markdown",
      "metadata": {
        "id": "14C6Mv1_WKU6"
      },
      "source": [
        "# Data Understanding"
      ]
    },
    {
      "cell_type": "markdown",
      "metadata": {
        "id": "zEfrUpjgWKU6"
      },
      "source": [
        "## Shape"
      ]
    },
    {
      "cell_type": "code",
      "execution_count": null,
      "metadata": {
        "ExecuteTime": {
          "end_time": "2022-03-10T14:21:08.095311Z",
          "start_time": "2022-03-10T14:21:08.086988Z"
        },
        "colab": {
          "base_uri": "https://localhost:8080/"
        },
        "id": "vTCQdr1MWKU6",
        "outputId": "c2c33821-3fc8-4405-8618-2061db2f605c"
      },
      "outputs": [
        {
          "output_type": "stream",
          "name": "stdout",
          "text": [
            "train: (7007, 28, 28, 3) (7007, 1)\n",
            "test: (2005, 28, 28, 3) (2005, 1)\n",
            "val: (1003, 28, 28, 3) (1003, 1)\n"
          ]
        }
      ],
      "source": [
        "print(\"train:\",X_train.shape,y_train.shape)\n",
        "print(\"test:\",X_test.shape,y_test.shape)\n",
        "print('val:',X_val.shape,y_val.shape)"
      ]
    },
    {
      "cell_type": "markdown",
      "metadata": {
        "id": "qAVcUbgAWKU6"
      },
      "source": [
        "## Counts per-category"
      ]
    },
    {
      "cell_type": "code",
      "execution_count": null,
      "metadata": {
        "ExecuteTime": {
          "end_time": "2022-03-10T14:28:10.814037Z",
          "start_time": "2022-03-10T14:28:10.806772Z"
        },
        "colab": {
          "base_uri": "https://localhost:8080/"
        },
        "id": "o-RBp-K_WKU6",
        "outputId": "6590398a-c80a-4735-d17f-64391c7e3d15"
      },
      "outputs": [
        {
          "output_type": "execute_result",
          "data": {
            "text/plain": [
              "['akic', 'bccar', 'bkll', 'df', 'melanoma', 'mel-nevi', 'vas-lesi']"
            ]
          },
          "metadata": {},
          "execution_count": 7
        }
      ],
      "source": [
        "# labels =  list(medmnist.INFO['dermamnist']['label'].values())\n",
        "labels = ['akic',\n",
        " 'bccar',\n",
        " 'bkll',\n",
        " 'df',\n",
        " 'melanoma',\n",
        " 'mel-nevi',\n",
        " 'vas-lesi']\n",
        "\n",
        "labels"
      ]
    },
    {
      "cell_type": "markdown",
      "metadata": {
        "id": "04bfcYbTWKU6"
      },
      "source": [
        "### Train Data"
      ]
    },
    {
      "cell_type": "code",
      "execution_count": null,
      "metadata": {
        "ExecuteTime": {
          "end_time": "2022-03-10T14:21:08.122091Z",
          "start_time": "2022-03-10T14:21:08.105495Z"
        },
        "colab": {
          "base_uri": "https://localhost:8080/"
        },
        "id": "vPdoesuQWKU6",
        "outputId": "1f52ad1f-821b-40ce-b06c-25297d7ceaec"
      },
      "outputs": [
        {
          "output_type": "stream",
          "name": "stdout",
          "text": [
            "----------Train data----------\n",
            "          Counts  Percentage\n",
            "akic         228    3.253889\n",
            "bccar        359    5.123448\n",
            "bkll         769   10.974740\n",
            "df            80    1.141715\n",
            "melanoma     779   11.117454\n",
            "mel-nevi    4693   66.975881\n",
            "vas-lesi      99    1.412873\n"
          ]
        }
      ],
      "source": [
        "print((\"-\"*10)+\"Train data\"+(\"-\"*10))\n",
        "\n",
        "train_labels = np.array([i[0] for i in y_train])\n",
        "\n",
        "no_of_samples = np.bincount(train_labels)\n",
        "\n",
        "print(pd.DataFrame({\"Counts\":no_of_samples,\n",
        "             \"Percentage\":no_of_samples/sum(no_of_samples)*100},\n",
        "             index=labels))"
      ]
    },
    {
      "cell_type": "markdown",
      "metadata": {
        "id": "XGPxHW1lWKU7"
      },
      "source": [
        "### Test Data"
      ]
    },
    {
      "cell_type": "code",
      "execution_count": null,
      "metadata": {
        "ExecuteTime": {
          "end_time": "2022-03-10T14:21:08.135249Z",
          "start_time": "2022-03-10T14:21:08.124451Z"
        },
        "colab": {
          "base_uri": "https://localhost:8080/"
        },
        "id": "_yhbybP9WKU7",
        "outputId": "f8cf0012-75c7-4c7a-eecf-d0aa6fe0e599"
      },
      "outputs": [
        {
          "output_type": "stream",
          "name": "stdout",
          "text": [
            "----------Test data----------\n",
            "          Counts  Percentage\n",
            "akic          66    3.291771\n",
            "bccar        103    5.137157\n",
            "bkll         220   10.972569\n",
            "df            23    1.147132\n",
            "melanoma     223   11.122195\n",
            "mel-nevi    1341   66.882793\n",
            "vas-lesi      29    1.446384\n"
          ]
        }
      ],
      "source": [
        "print((\"-\"*10)+\"Test data\"+(\"-\"*10))\n",
        "\n",
        "test_labels = np.array([i[0] for i in y_test])\n",
        "\n",
        "no_of_samples = np.bincount(test_labels)\n",
        "\n",
        "print(pd.DataFrame({\"Counts\":no_of_samples,\n",
        "             \"Percentage\":no_of_samples/sum(no_of_samples)*100},\n",
        "             index=labels))"
      ]
    },
    {
      "cell_type": "markdown",
      "metadata": {
        "id": "rhI-xHTAWKU7"
      },
      "source": [
        "### Val Data"
      ]
    },
    {
      "cell_type": "code",
      "execution_count": null,
      "metadata": {
        "ExecuteTime": {
          "end_time": "2022-03-10T14:21:08.148869Z",
          "start_time": "2022-03-10T14:21:08.138934Z"
        },
        "colab": {
          "base_uri": "https://localhost:8080/"
        },
        "id": "JjLBjueEWKU7",
        "outputId": "7020053a-35ef-45c4-fccc-10fdc0119c78"
      },
      "outputs": [
        {
          "output_type": "stream",
          "name": "stdout",
          "text": [
            "----------Val data----------\n",
            "          Counts  Percentage\n",
            "akic          33    3.290130\n",
            "bccar         52    5.184447\n",
            "bkll         110   10.967099\n",
            "df            12    1.196411\n",
            "melanoma     111   11.066800\n",
            "mel-nevi     671   66.899302\n",
            "vas-lesi      14    1.395813\n"
          ]
        }
      ],
      "source": [
        "print((\"-\"*10)+\"Val data\"+(\"-\"*10))\n",
        "\n",
        "val_labels = np.array([i[0] for i in y_val])\n",
        "\n",
        "no_of_samples = np.bincount(val_labels)\n",
        "\n",
        "print(pd.DataFrame({\"Counts\":no_of_samples,\n",
        "             \"Percentage\":no_of_samples/sum(no_of_samples)*100},\n",
        "             index=labels))"
      ]
    },
    {
      "cell_type": "markdown",
      "metadata": {
        "id": "hYAfYU8_WKU7"
      },
      "source": [
        "## Visualisation"
      ]
    },
    {
      "cell_type": "code",
      "execution_count": null,
      "metadata": {
        "ExecuteTime": {
          "end_time": "2022-03-10T14:21:12.212088Z",
          "start_time": "2022-03-10T14:21:08.151740Z"
        },
        "scrolled": true,
        "colab": {
          "base_uri": "https://localhost:8080/",
          "height": 1000
        },
        "id": "9KWGZRfWWKU7",
        "outputId": "ad1f4ade-d231-4bb3-ec03-db1365a07ee3"
      },
      "outputs": [
        {
          "output_type": "display_data",
          "data": {
            "text/plain": [
              "<Figure size 1080x1800 with 35 Axes>"
            ],
            "image/png": "[encoded data removed]"
          },
          "metadata": {
            "needs_background": "light"
          }
        }
      ],
      "source": [
        "fig, ax = plt.subplots(7, 5)\n",
        "fig.set_figheight(25)\n",
        "fig.set_figwidth(15)\n",
        "for classes in range (7):\n",
        "    for i, inx in enumerate(np.where(y_train==classes)[0][:5]):\n",
        "        ax[classes,i].imshow(X_train[inx])\n",
        "        ax[classes,i].set_ylabel(labels[classes],fontsize = 10.0)\n",
        "        ax[classes,i].label_outer()"
      ]
    },
    {
      "cell_type": "markdown",
      "metadata": {
        "id": "2e-f2g5MWKU7"
      },
      "source": [
        "# Data Pre-Processing"
      ]
    },
    {
      "cell_type": "markdown",
      "metadata": {
        "id": "mlcQfvx6WKU7"
      },
      "source": [
        "## Re-sampling"
      ]
    },
    {
      "cell_type": "markdown",
      "source": [
        "### Train"
      ],
      "metadata": {
        "id": "ihys10tf5r-3"
      }
    },
    {
      "cell_type": "code",
      "execution_count": null,
      "metadata": {
        "ExecuteTime": {
          "end_time": "2022-03-10T14:21:12.408781Z",
          "start_time": "2022-03-10T14:21:12.214328Z"
        },
        "colab": {
          "base_uri": "https://localhost:8080/"
        },
        "id": "MApyXpmYWKU8",
        "outputId": "37a33953-fce6-4672-be23-c135d3320eb0"
      },
      "outputs": [
        {
          "output_type": "stream",
          "name": "stdout",
          "text": [
            "Over sampling : [1596 1795 1538 1600 1558 4693 1980]\n",
            "Under sampling : [1596 1795 1538 1600 1558 2346 1980]\n"
          ]
        }
      ],
      "source": [
        "from imblearn.over_sampling import RandomOverSampler\n",
        "from imblearn.under_sampling import RandomUnderSampler\n",
        "\n",
        "\n",
        "no_of_samples = np.bincount(train_labels)\n",
        "\n",
        "resampling_dict = {0: no_of_samples[0]*7,\n",
        "                   1: no_of_samples[1]*5,\n",
        "                   2: no_of_samples[2]*2,\n",
        "                   3: no_of_samples[3]*20,\n",
        "                   4: no_of_samples[4]*2,\n",
        "                   5: no_of_samples[5],\n",
        "                   6: no_of_samples[6]*20}\n",
        "\n",
        "# flattening X to suite the library requirements\n",
        "X_train = X_train.reshape(X_train.shape[0], -1)\n",
        "\n",
        "# over sampling all categories except 5\n",
        "oversample = RandomOverSampler(sampling_strategy=resampling_dict)\n",
        "X_train_resampled , y_train_resampled = oversample.fit_resample(X_train, y_train)\n",
        "print('Over sampling : {}'.format(np.bincount(y_train_resampled)))\n",
        "\n",
        "resampling_dict[5] = no_of_samples[5]//2\n",
        "# under sampling category 5\n",
        "undersample = RandomUnderSampler(sampling_strategy=resampling_dict)\n",
        "X_train_resampled , y_train_resampled = undersample.fit_resample(X_train_resampled, y_train_resampled)\n",
        "print('Under sampling : {}'.format(np.bincount(y_train_resampled)))\n",
        "\n",
        "# re-shaping X back to it's original shape\n",
        "X_train_resampled = X_train_resampled.reshape(-1,28,28,3)\n",
        "X_train = X_train.reshape(-1,28,28,3)"
      ]
    },
    {
      "cell_type": "markdown",
      "source": [
        "### Test"
      ],
      "metadata": {
        "id": "6GiZBA1Z5wIs"
      }
    },
    {
      "cell_type": "code",
      "source": [
        "from imblearn.over_sampling import RandomOverSampler\n",
        "from imblearn.under_sampling import RandomUnderSampler\n",
        "\n",
        "\n",
        "no_of_samples = np.bincount(test_labels)\n",
        "\n",
        "resampling_dict = {0: no_of_samples[0]*7,\n",
        "                   1: no_of_samples[1]*5,\n",
        "                   2: no_of_samples[2]*2,\n",
        "                   3: no_of_samples[3]*20,\n",
        "                   4: no_of_samples[4]*2,\n",
        "                   5: no_of_samples[5],\n",
        "                   6: no_of_samples[6]*20}\n",
        "\n",
        "# flattening X to suite the library requirements\n",
        "X_test = X_test.reshape(X_test.shape[0], -1)\n",
        "\n",
        "# over sampling all categories except 5\n",
        "oversample = RandomOverSampler(sampling_strategy=resampling_dict)\n",
        "X_test_resampled , y_test_resampled = oversample.fit_resample(X_test, y_test)\n",
        "print('Over sampling : {}'.format(np.bincount(y_test_resampled)))\n",
        "\n",
        "resampling_dict[5] = no_of_samples[5]//2\n",
        "# under sampling category 5\n",
        "undersample = RandomUnderSampler(sampling_strategy=resampling_dict)\n",
        "X_test_resampled , y_test_resampled = undersample.fit_resample(X_test_resampled, y_test_resampled)\n",
        "print('Under sampling : {}'.format(np.bincount(y_test_resampled)))\n",
        "\n",
        "# re-shaping X back to it's original shape\n",
        "X_test_resampled = X_test_resampled.reshape(-1,28,28,3)\n",
        "X_test = X_test.reshape(-1,28,28,3)"
      ],
      "metadata": {
        "id": "eziocUnCiZ2I",
        "colab": {
          "base_uri": "https://localhost:8080/"
        },
        "outputId": "cf494fae-a3d7-4ecb-f935-7181d53af297"
      },
      "execution_count": null,
      "outputs": [
        {
          "output_type": "stream",
          "name": "stdout",
          "text": [
            "Over sampling : [ 462  515  440  460  446 1341  580]\n",
            "Under sampling : [462 515 440 460 446 670 580]\n"
          ]
        }
      ]
    },
    {
      "cell_type": "markdown",
      "source": [
        "### Val"
      ],
      "metadata": {
        "id": "csLtR72U5zIi"
      }
    },
    {
      "cell_type": "code",
      "source": [
        "from imblearn.over_sampling import RandomOverSampler\n",
        "from imblearn.under_sampling import RandomUnderSampler\n",
        "\n",
        "\n",
        "no_of_samples = np.bincount(val_labels)\n",
        "\n",
        "resampling_dict = {0: no_of_samples[0]*7,\n",
        "                   1: no_of_samples[1]*5,\n",
        "                   2: no_of_samples[2]*2,\n",
        "                   3: no_of_samples[3]*20,\n",
        "                   4: no_of_samples[4]*2,\n",
        "                   5: no_of_samples[5],\n",
        "                   6: no_of_samples[6]*20}\n",
        "\n",
        "# flattening X to suite the library requirements\n",
        "X_val = X_val.reshape(X_val.shape[0], -1)\n",
        "\n",
        "# over sampling all categories except 5\n",
        "oversample = RandomOverSampler(sampling_strategy=resampling_dict)\n",
        "X_val_resampled , y_val_resampled = oversample.fit_resample(X_val, y_val)\n",
        "print('Over sampling : {}'.format(np.bincount(y_val_resampled)))\n",
        "\n",
        "resampling_dict[5] = no_of_samples[5]//2\n",
        "# under sampling category 5\n",
        "undersample = RandomUnderSampler(sampling_strategy=resampling_dict)\n",
        "X_val_resampled , y_val_resampled = undersample.fit_resample(X_val_resampled, y_val_resampled)\n",
        "print('Under sampling : {}'.format(np.bincount(y_val_resampled)))\n",
        "\n",
        "# re-shaping X back to it's original shape\n",
        "X_val_resampled = X_val_resampled.reshape(-1,28,28,3)\n",
        "X_val = X_val.reshape(-1,28,28,3)"
      ],
      "metadata": {
        "id": "Nqik573XigGJ",
        "colab": {
          "base_uri": "https://localhost:8080/"
        },
        "outputId": "83beabfb-75be-48ed-e567-6cd5105ff839"
      },
      "execution_count": null,
      "outputs": [
        {
          "output_type": "stream",
          "name": "stdout",
          "text": [
            "Over sampling : [231 260 220 240 222 671 280]\n",
            "Under sampling : [231 260 220 240 222 335 280]\n"
          ]
        }
      ]
    },
    {
      "cell_type": "markdown",
      "metadata": {
        "id": "iq3yIBjfWKU8"
      },
      "source": [
        "## Counts after Re-sampling"
      ]
    },
    {
      "cell_type": "code",
      "execution_count": null,
      "metadata": {
        "ExecuteTime": {
          "end_time": "2022-03-10T14:21:12.419992Z",
          "start_time": "2022-03-10T14:21:12.410995Z"
        },
        "colab": {
          "base_uri": "https://localhost:8080/"
        },
        "id": "7Aj5x7fnWKU8",
        "outputId": "b76e496a-4f9d-491b-c70a-528d76801359"
      },
      "outputs": [
        {
          "output_type": "stream",
          "name": "stdout",
          "text": [
            "          Counts  Percentage\n",
            "akic        1596   12.857488\n",
            "bccar       1795   14.460646\n",
            "bkll        1538   12.390236\n",
            "df          1600   12.889712\n",
            "melanoma    1558   12.551357\n",
            "mel-nevi    2346   18.899541\n",
            "vas-lesi    1980   15.951019\n",
            "Total :  12413\n"
          ]
        }
      ],
      "source": [
        "no_of_samples = np.bincount(y_train_resampled)\n",
        "\n",
        "print(pd.DataFrame({\"Counts\":no_of_samples,\n",
        "             \"Percentage\":no_of_samples/sum(no_of_samples)*100},\n",
        "             index=labels))\n",
        "print(\"Total : \", sum(no_of_samples))"
      ]
    },
    {
      "cell_type": "code",
      "source": [
        "no_of_samples = np.bincount(y_test_resampled)\n",
        "\n",
        "print(pd.DataFrame({\"Counts\":no_of_samples,\n",
        "             \"Percentage\":no_of_samples/sum(no_of_samples)*100},\n",
        "             index=labels))\n",
        "print(\"Total : \", sum(no_of_samples))"
      ],
      "metadata": {
        "colab": {
          "base_uri": "https://localhost:8080/"
        },
        "id": "8cunzrgRDwF0",
        "outputId": "6aebfe6b-aaf1-454d-83a3-cfdfd69b45f9"
      },
      "execution_count": null,
      "outputs": [
        {
          "output_type": "stream",
          "name": "stdout",
          "text": [
            "          Counts  Percentage\n",
            "akic         462   12.930311\n",
            "bccar        515   14.413658\n",
            "bkll         440   12.314582\n",
            "df           460   12.874335\n",
            "melanoma     446   12.482508\n",
            "mel-nevi     670   18.751749\n",
            "vas-lesi     580   16.232858\n",
            "Total :  3573\n"
          ]
        }
      ]
    },
    {
      "cell_type": "code",
      "source": [
        "no_of_samples = np.bincount(y_val_resampled)\n",
        "\n",
        "print(pd.DataFrame({\"Counts\":no_of_samples,\n",
        "             \"Percentage\":no_of_samples/sum(no_of_samples)*100},\n",
        "             index=labels))\n",
        "print(\"Total : \", sum(no_of_samples))"
      ],
      "metadata": {
        "colab": {
          "base_uri": "https://localhost:8080/"
        },
        "id": "MAw79yuvD1vm",
        "outputId": "9e30edee-1a5c-4a98-e12c-b620a453fd31"
      },
      "execution_count": null,
      "outputs": [
        {
          "output_type": "stream",
          "name": "stdout",
          "text": [
            "          Counts  Percentage\n",
            "akic         231   12.919463\n",
            "bccar        260   14.541387\n",
            "bkll         220   12.304251\n",
            "df           240   13.422819\n",
            "melanoma     222   12.416107\n",
            "mel-nevi     335   18.736018\n",
            "vas-lesi     280   15.659955\n",
            "Total :  1788\n"
          ]
        }
      ]
    },
    {
      "cell_type": "markdown",
      "metadata": {
        "id": "iExhY1JfWKU8"
      },
      "source": [
        "## Image data generation using TF"
      ]
    },
    {
      "cell_type": "code",
      "execution_count": null,
      "metadata": {
        "ExecuteTime": {
          "end_time": "2022-03-10T14:21:12.490271Z",
          "start_time": "2022-03-10T14:21:12.422092Z"
        },
        "id": "_dsMhdvkWKU8"
      },
      "outputs": [],
      "source": [
        "from tensorflow.keras.preprocessing.image import ImageDataGenerator\n",
        "from tensorflow.keras.utils import to_categorical\n",
        "\n",
        "\n",
        "train_datagen = ImageDataGenerator(rescale = 1./255,\n",
        "                                  rotation_range = 10,\n",
        "                                  width_shift_range = 0.2,\n",
        "                                  height_shift_range = 0.2,\n",
        "                                  shear_range = 0.2,\n",
        "                                  horizontal_flip = True,\n",
        "                                  vertical_flip = True,\n",
        "                                  fill_mode = 'wrap')\n",
        "\n",
        "train_data = train_datagen.flow(X_train_resampled, to_categorical(y_train_resampled),\n",
        "                                batch_size=50,\n",
        "                                seed=1)\n",
        "\n",
        "\n",
        "val_datagen = ImageDataGenerator(rescale = 1./255)\n",
        "\n",
        "val_data = val_datagen.flow(X_val_resampled, to_categorical(y_val_resampled),\n",
        "                             batch_size=50,\n",
        "                             seed=1)"
      ]
    },
    {
      "cell_type": "markdown",
      "metadata": {
        "id": "Rs8oblhqWKU8"
      },
      "source": [
        "## Final data shape"
      ]
    },
    {
      "cell_type": "code",
      "execution_count": null,
      "metadata": {
        "ExecuteTime": {
          "end_time": "2022-03-10T14:21:12.496905Z",
          "start_time": "2022-03-10T14:21:12.492266Z"
        },
        "colab": {
          "base_uri": "https://localhost:8080/"
        },
        "id": "lm2nEdQRWKU8",
        "outputId": "ec3d827a-10d0-4d16-af57-7538d5ac7c5a"
      },
      "outputs": [
        {
          "output_type": "stream",
          "name": "stdout",
          "text": [
            "Train Set:      X:(12413, 28, 28, 3) Y:(12413, 7)\n",
            "Validation Set: X:(1788, 28, 28, 3) Y:(1788, 7)\n",
            "Test Set :      X:(2005, 28, 28, 3) Y:(2005, 1)\n"
          ]
        }
      ],
      "source": [
        "print('Train Set:      X:{} Y:{}'.format(train_data.x.shape, train_data.y.shape))\n",
        "print('Validation Set: X:{} Y:{}'.format(val_data.x.shape, val_data.y.shape))\n",
        "print('Test Set :      X:{} Y:{}'.format(X_test.shape, y_test.shape))"
      ]
    },
    {
      "cell_type": "markdown",
      "metadata": {
        "id": "aTHzMa3-WKU9"
      },
      "source": [
        "# Model"
      ]
    },
    {
      "cell_type": "code",
      "execution_count": null,
      "metadata": {
        "ExecuteTime": {
          "end_time": "2022-03-10T14:21:12.502639Z",
          "start_time": "2022-03-10T14:21:12.498880Z"
        },
        "id": "O8ndgl-vWKU9"
      },
      "outputs": [],
      "source": [
        "from tensorflow import keras\n",
        "from tensorflow.keras.models import Model\n",
        "from tensorflow.keras.layers import Input, Dense, Conv2D, MaxPool2D, Flatten"
      ]
    },
    {
      "cell_type": "markdown",
      "metadata": {
        "id": "7XyTrIP7WKU9"
      },
      "source": [
        "## Architecture"
      ]
    },
    {
      "cell_type": "markdown",
      "metadata": {
        "id": "-QaT9Dv7WKU-"
      },
      "source": [
        "### Define"
      ]
    },
    {
      "cell_type": "code",
      "execution_count": null,
      "metadata": {
        "ExecuteTime": {
          "end_time": "2022-03-10T14:21:12.718088Z",
          "start_time": "2022-03-10T14:21:12.504559Z"
        },
        "id": "osDoEaYwWKU-"
      },
      "outputs": [],
      "source": [
        "input_layer = Input(shape=(28,28,3))\n",
        "\n",
        "# convolution block 1\n",
        "cb11 = Conv2D(filters=256, kernel_size=(3,3), strides=(1,1), padding=\"same\", activation=\"relu\")(input_layer)\n",
        "cb12 = Conv2D(filters=256, kernel_size=(3,3), strides=(1,1), padding=\"same\", activation=\"relu\")(cb11)\n",
        "maxpl1 = MaxPool2D((2,2))(cb12)\n",
        "\n",
        "#convolution block 2\n",
        "cb21 = Conv2D(filters=256, kernel_size=(3,3), strides=(1,1), padding=\"same\", activation=\"relu\")(maxpl1)\n",
        "cb22 = Conv2D(filters=256, kernel_size=(3,3), strides=(1,1), padding=\"same\", activation=\"relu\")(cb21)\n",
        "maxpl2 = MaxPool2D((2,2))(cb22)\n",
        "\n",
        "#convolution block 3\n",
        "cb31 = Conv2D(filters=128, kernel_size=(3,3), strides=(1,1), padding=\"same\", activation=\"relu\")(maxpl2)\n",
        "cb32 = Conv2D(filters=128, kernel_size=(3,3), strides=(1,1), padding=\"same\", activation=\"relu\")(cb31)\n",
        "maxpl3 = MaxPool2D((2,2))(cb32)\n",
        "\n",
        "#convolution block 4\n",
        "cb41 = Conv2D(filters=64, kernel_size=(3,3), strides=(1,1), padding=\"same\", activation=\"relu\")(maxpl3)\n",
        "cb42 = Conv2D(filters=64, kernel_size=(3,3), strides=(1,1), padding=\"same\", activation=\"relu\")(cb41)\n",
        "cb43 = Conv2D(filters=64, kernel_size=(3,3), strides=(1,1), padding=\"same\", activation=\"relu\")(cb42)\n",
        "maxpl4 = MaxPool2D((2,2))(cb43)\n",
        "\n",
        "# artificial neural network block\n",
        "flat   = Flatten()(maxpl4)\n",
        "dense1 = Dense(1024, activation=\"relu\")(flat)\n",
        "dense2 = Dense(1024, activation=\"relu\")(dense1)\n",
        "dense3 = Dense(1024, activation=\"relu\")(dense2)\n",
        "output = Dense(7, activation=\"softmax\")(dense3)\n",
        "model = Model(inputs=input_layer, outputs=output)"
      ]
    },
    {
      "cell_type": "markdown",
      "metadata": {
        "id": "-E8YSB5sWKU-"
      },
      "source": [
        "### Compile"
      ]
    },
    {
      "cell_type": "code",
      "execution_count": null,
      "metadata": {
        "ExecuteTime": {
          "end_time": "2022-03-10T14:21:12.737151Z",
          "start_time": "2022-03-10T14:21:12.720458Z"
        },
        "id": "q--B-PuTWKU-"
      },
      "outputs": [],
      "source": [
        "model.compile(optimizer= keras.optimizers.Adam(0.0001, decay=1e-5),\n",
        "              loss='categorical_crossentropy',\n",
        "              metrics=['acc'])#keras.metrics.Accuracy())"
      ]
    },
    {
      "cell_type": "markdown",
      "metadata": {
        "id": "GsAj0qXlWKU-"
      },
      "source": [
        "### Summary"
      ]
    },
    {
      "cell_type": "code",
      "execution_count": null,
      "metadata": {
        "ExecuteTime": {
          "end_time": "2022-03-10T14:21:12.751666Z",
          "start_time": "2022-03-10T14:21:12.739515Z"
        },
        "colab": {
          "base_uri": "https://localhost:8080/"
        },
        "id": "azWctXP3WKU-",
        "outputId": "c1039d13-6074-4e78-a678-9f92947cc11a"
      },
      "outputs": [
        {
          "output_type": "stream",
          "name": "stdout",
          "text": [
            "Model: \"model\"\n",
            "_________________________________________________________________\n",
            " Layer (type)                Output Shape              Param #   \n",
            "=================================================================\n",
            " input_3 (InputLayer)        [(None, 28, 28, 3)]       0         \n",
            "                                                                 \n",
            " conv2d (Conv2D)             (None, 28, 28, 256)       7168      \n",
            "                                                                 \n",
            " conv2d_1 (Conv2D)           (None, 28, 28, 256)       590080    \n",
            "                                                                 \n",
            " max_pooling2d (MaxPooling2D  (None, 14, 14, 256)      0         \n",
            " )                                                               \n",
            "                                                                 \n",
            " conv2d_2 (Conv2D)           (None, 14, 14, 256)       590080    \n",
            "                                                                 \n",
            " conv2d_3 (Conv2D)           (None, 14, 14, 256)       590080    \n",
            "                                                                 \n",
            " max_pooling2d_1 (MaxPooling  (None, 7, 7, 256)        0         \n",
            " 2D)                                                             \n",
            "                                                                 \n",
            " conv2d_4 (Conv2D)           (None, 7, 7, 128)         295040    \n",
            "                                                                 \n",
            " conv2d_5 (Conv2D)           (None, 7, 7, 128)         147584    \n",
            "                                                                 \n",
            " max_pooling2d_2 (MaxPooling  (None, 3, 3, 128)        0         \n",
            " 2D)                                                             \n",
            "                                                                 \n",
            " conv2d_6 (Conv2D)           (None, 3, 3, 64)          73792     \n",
            "                                                                 \n",
            " conv2d_7 (Conv2D)           (None, 3, 3, 64)          36928     \n",
            "                                                                 \n",
            " conv2d_8 (Conv2D)           (None, 3, 3, 64)          36928     \n",
            "                                                                 \n",
            " max_pooling2d_3 (MaxPooling  (None, 1, 1, 64)         0         \n",
            " 2D)                                                             \n",
            "                                                                 \n",
            " flatten (Flatten)           (None, 64)                0         \n",
            "                                                                 \n",
            " dense_1 (Dense)             (None, 1024)              66560     \n",
            "                                                                 \n",
            " dense_2 (Dense)             (None, 1024)              1049600   \n",
            "                                                                 \n",
            " dense_3 (Dense)             (None, 1024)              1049600   \n",
            "                                                                 \n",
            " dense_4 (Dense)             (None, 7)                 7175      \n",
            "                                                                 \n",
            "=================================================================\n",
            "Total params: 4,540,615\n",
            "Trainable params: 4,540,615\n",
            "Non-trainable params: 0\n",
            "_________________________________________________________________\n"
          ]
        }
      ],
      "source": [
        "model.summary()"
      ]
    },
    {
      "cell_type": "raw",
      "metadata": {
        "ExecuteTime": {
          "end_time": "2022-03-10T11:53:50.909570Z",
          "start_time": "2022-03-10T11:53:50.905480Z"
        },
        "id": "_omG843aWKU-"
      },
      "source": [
        "from tensorflow.keras.utils import plot_model\n",
        "plot_model(model)"
      ]
    },
    {
      "cell_type": "markdown",
      "metadata": {
        "id": "wRv9wiZSWKU-"
      },
      "source": [
        "## Training"
      ]
    },
    {
      "cell_type": "code",
      "execution_count": null,
      "metadata": {
        "ExecuteTime": {
          "end_time": "2022-03-10T14:22:19.590388Z",
          "start_time": "2022-03-10T14:21:12.753807Z"
        },
        "colab": {
          "base_uri": "https://localhost:8080/"
        },
        "id": "bjEOOpdGWKU-",
        "outputId": "b508f453-0a7c-41ef-ff35-9f3ad2522d10"
      },
      "outputs": [
        {
          "output_type": "stream",
          "name": "stdout",
          "text": [
            "Epoch 1/50\n",
            "124/124 [==============================] - 16s 43ms/step - loss: 1.8939 - acc: 0.1944 - val_loss: 1.7745 - val_acc: 0.2824\n",
            "Epoch 2/50\n",
            "124/124 [==============================] - 5s 38ms/step - loss: 1.7112 - acc: 0.2668 - val_loss: 1.6245 - val_acc: 0.3247\n",
            "Epoch 3/50\n",
            "124/124 [==============================] - 5s 39ms/step - loss: 1.6324 - acc: 0.2892 - val_loss: 1.5349 - val_acc: 0.4176\n",
            "Epoch 4/50\n",
            "124/124 [==============================] - 6s 48ms/step - loss: 1.4849 - acc: 0.3923 - val_loss: 1.4212 - val_acc: 0.4282\n",
            "Epoch 5/50\n",
            "124/124 [==============================] - 8s 66ms/step - loss: 1.4053 - acc: 0.4216 - val_loss: 1.3620 - val_acc: 0.4576\n",
            "Epoch 6/50\n",
            "124/124 [==============================] - 5s 39ms/step - loss: 1.3492 - acc: 0.4455 - val_loss: 1.3418 - val_acc: 0.4635\n",
            "Epoch 7/50\n",
            "124/124 [==============================] - 5s 38ms/step - loss: 1.3066 - acc: 0.4689 - val_loss: 1.2823 - val_acc: 0.4588\n",
            "Epoch 8/50\n",
            "124/124 [==============================] - 5s 38ms/step - loss: 1.2504 - acc: 0.4938 - val_loss: 1.2380 - val_acc: 0.5024\n",
            "Epoch 9/50\n",
            "124/124 [==============================] - 5s 38ms/step - loss: 1.2175 - acc: 0.5139 - val_loss: 1.1729 - val_acc: 0.5329\n",
            "Epoch 10/50\n",
            "124/124 [==============================] - 5s 39ms/step - loss: 1.2123 - acc: 0.5074 - val_loss: 1.2057 - val_acc: 0.4753\n",
            "Epoch 11/50\n",
            "124/124 [==============================] - 5s 39ms/step - loss: 1.1782 - acc: 0.5261 - val_loss: 1.1894 - val_acc: 0.5082\n",
            "Epoch 12/50\n",
            "124/124 [==============================] - 5s 40ms/step - loss: 1.1475 - acc: 0.5431 - val_loss: 1.2397 - val_acc: 0.4729\n",
            "Epoch 13/50\n",
            "124/124 [==============================] - 5s 39ms/step - loss: 1.1260 - acc: 0.5490 - val_loss: 1.2338 - val_acc: 0.4788\n",
            "Epoch 14/50\n",
            "124/124 [==============================] - 5s 40ms/step - loss: 1.1076 - acc: 0.5602 - val_loss: 1.2686 - val_acc: 0.5482\n",
            "Epoch 15/50\n",
            "124/124 [==============================] - 5s 39ms/step - loss: 1.1146 - acc: 0.5517 - val_loss: 1.1787 - val_acc: 0.5341\n",
            "Epoch 16/50\n",
            "124/124 [==============================] - 5s 39ms/step - loss: 1.0608 - acc: 0.5796 - val_loss: 1.1266 - val_acc: 0.5306\n",
            "Epoch 17/50\n",
            "124/124 [==============================] - 5s 39ms/step - loss: 1.0681 - acc: 0.5760 - val_loss: 1.1412 - val_acc: 0.5082\n",
            "Epoch 18/50\n",
            "124/124 [==============================] - 5s 39ms/step - loss: 1.0473 - acc: 0.5915 - val_loss: 1.1981 - val_acc: 0.5471\n",
            "Epoch 19/50\n",
            "124/124 [==============================] - 5s 38ms/step - loss: 1.0457 - acc: 0.5875 - val_loss: 1.0351 - val_acc: 0.5447\n",
            "Epoch 20/50\n",
            "124/124 [==============================] - 5s 38ms/step - loss: 1.0404 - acc: 0.6002 - val_loss: 1.0828 - val_acc: 0.5353\n",
            "Epoch 21/50\n",
            "124/124 [==============================] - 5s 38ms/step - loss: 1.0089 - acc: 0.6098 - val_loss: 1.0655 - val_acc: 0.5882\n",
            "Epoch 22/50\n",
            "124/124 [==============================] - 6s 44ms/step - loss: 0.9624 - acc: 0.6253 - val_loss: 1.1270 - val_acc: 0.5729\n",
            "Epoch 23/50\n",
            "124/124 [==============================] - 5s 39ms/step - loss: 0.9730 - acc: 0.6305 - val_loss: 1.2149 - val_acc: 0.5412\n",
            "Epoch 24/50\n",
            "124/124 [==============================] - 5s 38ms/step - loss: 0.9473 - acc: 0.6341 - val_loss: 1.0910 - val_acc: 0.5706\n",
            "Epoch 25/50\n",
            "124/124 [==============================] - 5s 39ms/step - loss: 0.9266 - acc: 0.6437 - val_loss: 1.1871 - val_acc: 0.5329\n",
            "Epoch 26/50\n",
            "124/124 [==============================] - 5s 39ms/step - loss: 0.9306 - acc: 0.6466 - val_loss: 1.0505 - val_acc: 0.6318\n",
            "Epoch 27/50\n",
            "124/124 [==============================] - 5s 39ms/step - loss: 0.9004 - acc: 0.6560 - val_loss: 0.9992 - val_acc: 0.5741\n",
            "Epoch 28/50\n",
            "124/124 [==============================] - 5s 39ms/step - loss: 0.8881 - acc: 0.6637 - val_loss: 1.1380 - val_acc: 0.5765\n",
            "Epoch 29/50\n",
            "124/124 [==============================] - 5s 39ms/step - loss: 0.8555 - acc: 0.6737 - val_loss: 1.1896 - val_acc: 0.5529\n",
            "Epoch 30/50\n",
            "124/124 [==============================] - 5s 39ms/step - loss: 0.8467 - acc: 0.6786 - val_loss: 1.0057 - val_acc: 0.5694\n",
            "Epoch 31/50\n",
            "124/124 [==============================] - 5s 39ms/step - loss: 0.8339 - acc: 0.6823 - val_loss: 0.9831 - val_acc: 0.6059\n",
            "Epoch 32/50\n",
            "124/124 [==============================] - 5s 39ms/step - loss: 0.8163 - acc: 0.6923 - val_loss: 1.0424 - val_acc: 0.6165\n",
            "Epoch 33/50\n",
            "124/124 [==============================] - 5s 39ms/step - loss: 0.8256 - acc: 0.6860 - val_loss: 1.0418 - val_acc: 0.5859\n",
            "Epoch 34/50\n",
            "124/124 [==============================] - 5s 38ms/step - loss: 0.8052 - acc: 0.6961 - val_loss: 1.1436 - val_acc: 0.5541\n",
            "Epoch 35/50\n",
            "124/124 [==============================] - 5s 38ms/step - loss: 0.7811 - acc: 0.7019 - val_loss: 1.2203 - val_acc: 0.5835\n",
            "Epoch 36/50\n",
            "124/124 [==============================] - 5s 39ms/step - loss: 0.7674 - acc: 0.7092 - val_loss: 1.1854 - val_acc: 0.6118\n",
            "Epoch 37/50\n",
            "124/124 [==============================] - 8s 66ms/step - loss: 0.7611 - acc: 0.7148 - val_loss: 1.1374 - val_acc: 0.5647\n",
            "Epoch 38/50\n",
            "124/124 [==============================] - 10s 78ms/step - loss: 0.7449 - acc: 0.7131 - val_loss: 1.2681 - val_acc: 0.6376\n",
            "Epoch 39/50\n",
            "124/124 [==============================] - 5s 38ms/step - loss: 0.7096 - acc: 0.7360 - val_loss: 1.0806 - val_acc: 0.6212\n",
            "Epoch 40/50\n",
            "124/124 [==============================] - 5s 38ms/step - loss: 0.7371 - acc: 0.7200 - val_loss: 1.0391 - val_acc: 0.6459\n",
            "Epoch 41/50\n",
            "124/124 [==============================] - 5s 38ms/step - loss: 0.7045 - acc: 0.7339 - val_loss: 0.9748 - val_acc: 0.6094\n",
            "Epoch 42/50\n",
            "124/124 [==============================] - 5s 38ms/step - loss: 0.7179 - acc: 0.7337 - val_loss: 1.3123 - val_acc: 0.5835\n",
            "Epoch 43/50\n",
            "124/124 [==============================] - 5s 40ms/step - loss: 0.6928 - acc: 0.7381 - val_loss: 0.9466 - val_acc: 0.6506\n",
            "Epoch 44/50\n",
            "124/124 [==============================] - 5s 41ms/step - loss: 0.7053 - acc: 0.7332 - val_loss: 1.0269 - val_acc: 0.6541\n",
            "Epoch 45/50\n",
            "124/124 [==============================] - 5s 42ms/step - loss: 0.6571 - acc: 0.7491 - val_loss: 1.0651 - val_acc: 0.6282\n",
            "Epoch 46/50\n",
            "124/124 [==============================] - 5s 42ms/step - loss: 0.6273 - acc: 0.7581 - val_loss: 0.9577 - val_acc: 0.6588\n",
            "Epoch 47/50\n",
            "124/124 [==============================] - 5s 41ms/step - loss: 0.6377 - acc: 0.7555 - val_loss: 1.0279 - val_acc: 0.6247\n",
            "Epoch 48/50\n",
            "124/124 [==============================] - 5s 41ms/step - loss: 0.6272 - acc: 0.7597 - val_loss: 1.1364 - val_acc: 0.6494\n",
            "Epoch 49/50\n",
            "124/124 [==============================] - 5s 42ms/step - loss: 0.6246 - acc: 0.7629 - val_loss: 1.0140 - val_acc: 0.6235\n",
            "Epoch 50/50\n",
            "124/124 [==============================] - 5s 41ms/step - loss: 0.6129 - acc: 0.7663 - val_loss: 1.1122 - val_acc: 0.6553\n"
          ]
        }
      ],
      "source": [
        "batch_size = 100\n",
        "epochs = 50\n",
        "model_history = model.fit(train_data,\n",
        "                          steps_per_epoch= int(train_data.n/batch_size),\n",
        "                          epochs=epochs,\n",
        "                          validation_data=val_data,\n",
        "                          validation_steps=int(val_data.n/batch_size))"
      ]
    },
    {
      "cell_type": "code",
      "execution_count": null,
      "metadata": {
        "ExecuteTime": {
          "end_time": "2022-03-10T14:22:22.877123Z",
          "start_time": "2022-03-10T14:22:19.592748Z"
        },
        "id": "MQ3LmXIVWKU-",
        "colab": {
          "base_uri": "https://localhost:8080/"
        },
        "outputId": "38b68ac1-4763-4d0c-9359-a7bdeff1ffbc"
      },
      "outputs": [
        {
          "output_type": "stream",
          "name": "stdout",
          "text": [
            "INFO:tensorflow:Assets written to: dermamnist_model/assets\n"
          ]
        }
      ],
      "source": [
        "model.save(\"dermamnist_model\")"
      ]
    },
    {
      "cell_type": "code",
      "source": [
        "! zip -r dermamodel.zip dermamnist_model"
      ],
      "metadata": {
        "id": "05lR96z3aII7"
      },
      "execution_count": null,
      "outputs": []
    },
    {
      "cell_type": "code",
      "execution_count": null,
      "metadata": {
        "ExecuteTime": {
          "end_time": "2022-03-10T14:22:22.894394Z",
          "start_time": "2022-03-10T14:22:22.888703Z"
        },
        "id": "MkibtotNWKU-"
      },
      "outputs": [],
      "source": [
        "model_history.params"
      ]
    },
    {
      "cell_type": "markdown",
      "metadata": {
        "id": "lv8XCSkqWKU-"
      },
      "source": [
        "### Training performance"
      ]
    },
    {
      "cell_type": "code",
      "execution_count": null,
      "metadata": {
        "ExecuteTime": {
          "end_time": "2022-03-10T14:22:23.181229Z",
          "start_time": "2022-03-10T14:22:22.896506Z"
        },
        "id": "XphNMImhWKU-",
        "colab": {
          "base_uri": "https://localhost:8080/",
          "height": 320
        },
        "outputId": "c9e94e73-952f-4727-85ae-e752835a6d64"
      },
      "outputs": [
        {
          "output_type": "display_data",
          "data": {
            "text/plain": [
              "<Figure size 576x360 with 1 Axes>"
            ],
            "image/png": "[encoded data removed]"
          },
          "metadata": {
            "needs_background": "light"
          }
        }
      ],
      "source": [
        "pd.DataFrame(model_history.history).plot(figsize=(8,5))\n",
        "plt.grid(True)\n",
        "plt.show()"
      ]
    },
    {
      "cell_type": "markdown",
      "metadata": {
        "id": "kc2wnYRRWKU-"
      },
      "source": [
        "## Testing"
      ]
    },
    {
      "cell_type": "markdown",
      "metadata": {
        "id": "9t0F_R93WKU-"
      },
      "source": [
        "### Evaluate"
      ]
    },
    {
      "cell_type": "code",
      "execution_count": null,
      "metadata": {
        "ExecuteTime": {
          "end_time": "2022-03-10T14:22:28.395733Z",
          "start_time": "2022-03-10T14:22:23.183523Z"
        },
        "id": "W5j8xOwrWKU_",
        "colab": {
          "base_uri": "https://localhost:8080/"
        },
        "outputId": "21ab733e-87dd-423f-cc70-2642a3855f32"
      },
      "outputs": [
        {
          "output_type": "stream",
          "name": "stdout",
          "text": [
            "112/112 [==============================] - 2s 11ms/step - loss: 1.2419 - acc: 0.6342\n"
          ]
        },
        {
          "output_type": "execute_result",
          "data": {
            "text/plain": [
              "[1.2419342994689941, 0.634200930595398]"
            ]
          },
          "metadata": {},
          "execution_count": 36
        }
      ],
      "source": [
        "model.evaluate(X_test_resampled/255, to_categorical(y_test_resampled))"
      ]
    },
    {
      "cell_type": "code",
      "execution_count": null,
      "metadata": {
        "ExecuteTime": {
          "end_time": "2022-03-10T14:22:33.473652Z",
          "start_time": "2022-03-10T14:22:28.397711Z"
        },
        "id": "jl8nv5eYWKU_",
        "colab": {
          "base_uri": "https://localhost:8080/"
        },
        "outputId": "12a6e61f-39c9-40a5-c861-ea5989254eab"
      },
      "outputs": [
        {
          "output_type": "execute_result",
          "data": {
            "text/plain": [
              "array([[0.37, 0.08, 0.23, ..., 0.3 , 0.02, 0.  ],\n",
              "       [0.26, 0.62, 0.03, ..., 0.  , 0.  , 0.  ],\n",
              "       [0.63, 0.08, 0.15, ..., 0.1 , 0.04, 0.  ],\n",
              "       ...,\n",
              "       [0.  , 0.01, 0.02, ..., 0.01, 0.02, 0.94],\n",
              "       [0.  , 0.  , 0.  , ..., 0.  , 0.  , 1.  ],\n",
              "       [0.  , 0.  , 0.  , ..., 0.  , 0.  , 1.  ]], dtype=float32)"
            ]
          },
          "metadata": {},
          "execution_count": 50
        }
      ],
      "source": [
        "y_proba = model.predict(X_test_resampled/255)\n",
        "y_proba.round(2)"
      ]
    },
    {
      "cell_type": "code",
      "execution_count": null,
      "metadata": {
        "ExecuteTime": {
          "end_time": "2022-03-10T14:22:33.481155Z",
          "start_time": "2022-03-10T14:22:33.475721Z"
        },
        "id": "Ifr6FhOOWKU_",
        "colab": {
          "base_uri": "https://localhost:8080/"
        },
        "outputId": "c132ed7f-6d40-49db-e0a8-07ffd4402ac3"
      },
      "outputs": [
        {
          "output_type": "execute_result",
          "data": {
            "text/plain": [
              "array([0, 1, 0, 0, 5, 0, 0, 0, 3, 0])"
            ]
          },
          "metadata": {},
          "execution_count": 51
        }
      ],
      "source": [
        "y_pred = np.argmax(y_proba, axis=-1)\n",
        "y_pred[:10]"
      ]
    },
    {
      "cell_type": "code",
      "execution_count": null,
      "metadata": {
        "ExecuteTime": {
          "end_time": "2022-03-10T14:28:18.486946Z",
          "start_time": "2022-03-10T14:28:17.900309Z"
        },
        "id": "Mv6vxGceWKU_",
        "colab": {
          "base_uri": "https://localhost:8080/",
          "height": 729
        },
        "outputId": "6dba7776-4aff-4277-b474-d424c09c4c5d"
      },
      "outputs": [
        {
          "output_type": "display_data",
          "data": {
            "text/plain": [
              "<Figure size 1440x720 with 5 Axes>"
            ],
            "image/png": "[encoded data removed]"
          },
          "metadata": {
            "needs_background": "light"
          }
        }
      ],
      "source": [
        "y_pred_name = np.array(labels)[y_pred]\n",
        "\n",
        "plt.figure(figsize=(20,10))\n",
        "for i in range(5):\n",
        "    plt.subplot(5,1,i+1)\n",
        "    plt.imshow(X_test_resampled[i])\n",
        "    plt.title('True label: {}, \\nPrediction: {}'.format(labels[y_test[i].argmax()], y_pred_name[i]))\n",
        "plt.tight_layout()"
      ]
    },
    {
      "cell_type": "markdown",
      "metadata": {
        "id": "BVqiQhK8WKU_"
      },
      "source": [
        "### Confusion matrix"
      ]
    },
    {
      "cell_type": "code",
      "execution_count": null,
      "metadata": {
        "ExecuteTime": {
          "end_time": "2022-03-10T14:28:22.722861Z",
          "start_time": "2022-03-10T14:28:22.240975Z"
        },
        "id": "DRLBGyOfWKU_",
        "colab": {
          "base_uri": "https://localhost:8080/",
          "height": 580
        },
        "outputId": "d5687689-0a73-452c-eab1-959ac1177a64"
      },
      "outputs": [
        {
          "output_type": "display_data",
          "data": {
            "text/plain": [
              "<Figure size 720x720 with 2 Axes>"
            ],
            "image/png": "[encoded data removed]"
          },
          "metadata": {
            "needs_background": "light"
          }
        }
      ],
      "source": [
        "from sklearn.metrics import confusion_matrix, classification_report, ConfusionMatrixDisplay\n",
        "\n",
        "cm = confusion_matrix(y_test_resampled, y_pred)\n",
        "cm_display = ConfusionMatrixDisplay(cm,display_labels=labels)\n",
        "fig, ax = plt.subplots(figsize=(10,10))\n",
        "cm_display.plot(ax=ax)\n",
        "plt.show()"
      ]
    },
    {
      "cell_type": "code",
      "execution_count": null,
      "metadata": {
        "ExecuteTime": {
          "end_time": "2022-03-10T14:28:53.656786Z",
          "start_time": "2022-03-10T14:28:53.642337Z"
        },
        "id": "GhRSVGbyWKU_",
        "colab": {
          "base_uri": "https://localhost:8080/"
        },
        "outputId": "eeaa821c-35f5-47c7-a757-a7679f0204b6"
      },
      "outputs": [
        {
          "output_type": "stream",
          "name": "stdout",
          "text": [
            "              precision    recall  f1-score   support\n",
            "\n",
            "        akic       0.51      0.58      0.54       462\n",
            "       bccar       0.48      0.67      0.55       515\n",
            "        bkll       0.62      0.45      0.52       440\n",
            "          df       0.78      0.46      0.58       460\n",
            "    melanoma       0.55      0.53      0.54       446\n",
            "    mel-nevi       0.66      0.76      0.71       670\n",
            "    vas-lesi       0.94      0.86      0.90       580\n",
            "\n",
            "    accuracy                           0.63      3573\n",
            "   macro avg       0.65      0.62      0.62      3573\n",
            "weighted avg       0.66      0.63      0.63      3573\n",
            "\n"
          ]
        }
      ],
      "source": [
        "print(classification_report(y_test_resampled, y_pred, target_names = labels))"
      ]
    },
    {
      "cell_type": "code",
      "execution_count": null,
      "metadata": {
        "id": "aCOJ7df5WKU_"
      },
      "outputs": [],
      "source": []
    },
    {
      "cell_type": "markdown",
      "source": [
        "#RESNET50"
      ],
      "metadata": {
        "id": "EL3_M_kSZb08"
      }
    },
    {
      "cell_type": "code",
      "source": [
        "# Download data from Mnist\n",
        "train_dataset = medmnist.dataset.DermaMNIST(split='train', download=True)\n",
        "test_dataset = medmnist.dataset.DermaMNIST(split='test', download=True)\n",
        "val_dataset = medmnist.dataset.DermaMNIST(split='val', download=True)"
      ],
      "metadata": {
        "colab": {
          "base_uri": "https://localhost:8080/"
        },
        "id": "OnRIk-pBB5pS",
        "outputId": "eb6e87b3-6a8c-4192-8967-aea8d574b882"
      },
      "execution_count": null,
      "outputs": [
        {
          "output_type": "stream",
          "name": "stdout",
          "text": [
            "Using downloaded and verified file: /root/.medmnist/dermamnist.npz\n",
            "Using downloaded and verified file: /root/.medmnist/dermamnist.npz\n",
            "Using downloaded and verified file: /root/.medmnist/dermamnist.npz\n"
          ]
        }
      ]
    },
    {
      "cell_type": "code",
      "source": [
        "# Dump data\n",
        "train_dataset.save(\"temp_train\")\n",
        "test_dataset.save(\"temp_test\")\n",
        "val_dataset.save(\"temp_val\")"
      ],
      "metadata": {
        "colab": {
          "base_uri": "https://localhost:8080/"
        },
        "id": "40PTbN8LB_iJ",
        "outputId": "0c4c70ae-bbbd-4bb5-8e39-2164cad8303b"
      },
      "execution_count": null,
      "outputs": [
        {
          "output_type": "stream",
          "name": "stderr",
          "text": [
            "100%|██████████| 7007/7007 [00:02<00:00, 3118.16it/s]\n",
            "100%|██████████| 2005/2005 [00:00<00:00, 3230.41it/s]\n",
            "100%|██████████| 1003/1003 [00:00<00:00, 3336.31it/s]\n"
          ]
        }
      ]
    },
    {
      "cell_type": "code",
      "source": [
        "# Read image names and their location details\n",
        "import pandas as pd\n",
        "train_df = pd.read_csv(\"temp_train/dermamnist.csv\", header=None, names=[\"Train_Test\", \"Img\", \"Class\"])\n",
        "test_df = pd.read_csv(\"temp_test/dermamnist.csv\", header=None, names=[\"Train_Test\", \"Img\", \"Class\"])\n",
        "val_df = pd.read_csv(\"temp_val/dermamnist.csv\", header=None, names=[\"Train_Test\", \"Img\", \"Class\"])"
      ],
      "metadata": {
        "id": "yPVOg7BVCNCP"
      },
      "execution_count": null,
      "outputs": []
    },
    {
      "cell_type": "code",
      "source": [
        "# Create empty folders\n",
        "import os\n",
        "try:\n",
        "  os.mkdir(\"data\")\n",
        "  os.mkdir(\"data/train\")\n",
        "  os.mkdir(\"data/test\")\n",
        "  os.mkdir(\"data/val\")\n",
        "  for label in labels:\n",
        "    os.mkdir(\"data/train/\"+str(label))\n",
        "    os.mkdir(\"data/test/\"+str(label))\n",
        "    os.mkdir(\"data/val/\"+str(label))\n",
        "except:\n",
        "  print(\"Location already exists\")"
      ],
      "metadata": {
        "id": "taBOmjgUCbIb"
      },
      "execution_count": null,
      "outputs": []
    },
    {
      "cell_type": "code",
      "source": [
        "# Copy images to respective folders\n",
        "import shutil\n",
        "# shutil.copy2('/src/dir/file.ext', '/dst/dir/newname.ext')\n",
        "\n",
        "for img_name, lab_id in zip(train_df.Img.to_list(), train_df.Class.to_list()):\n",
        "  shutil.copy(\"temp_train/dermamnist/\"+str(img_name), \"data/train/\"+str(labels[lab_id])+\"/\"+str(img_name))\n",
        "for img_name, lab_id in zip(test_df.Img.to_list(), test_df.Class.to_list()):\n",
        "  shutil.copy(\"temp_test/dermamnist/\"+str(img_name), \"data/test/\"+str(labels[lab_id])+\"/\"+str(img_name))\n",
        "for img_name, lab_id in zip(val_df.Img.to_list(), val_df.Class.to_list()):\n",
        "  shutil.copy(\"temp_val/dermamnist/\"+str(img_name), \"data/val/\"+str(labels[lab_id])+\"/\"+str(img_name))"
      ],
      "metadata": {
        "id": "-bmO5DsWDsLB"
      },
      "execution_count": null,
      "outputs": []
    },
    {
      "cell_type": "code",
      "source": [
        "train_dir = \"data/train/\"\n",
        "validation_dir = \"data/val\"\n",
        "\n",
        "train_datagen = ImageDataGenerator(rescale = 1./255., rotation_range = 40, width_shift_range = 0.2, height_shift_range = 0.2, shear_range = 0.2, zoom_range = 0.2, horizontal_flip = True)\n",
        "\n",
        "test_datagen = ImageDataGenerator(rescale = 1.0/255.)\n",
        "\n",
        "train_generator = train_datagen.flow_from_directory(train_dir, class_mode = 'binary', target_size = (32, 32))\n",
        "\n",
        "validation_generator = test_datagen.flow_from_directory( validation_dir, class_mode = 'binary', target_size = (32, 32))"
      ],
      "metadata": {
        "colab": {
          "base_uri": "https://localhost:8080/"
        },
        "id": "QP4gVuYGAMY9",
        "outputId": "d4611dba-4f43-4e66-cb9e-9172e2e04dd0"
      },
      "execution_count": null,
      "outputs": [
        {
          "output_type": "stream",
          "name": "stdout",
          "text": [
            "Found 7007 images belonging to 7 classes.\n",
            "Found 1003 images belonging to 7 classes.\n"
          ]
        }
      ]
    },
    {
      "cell_type": "code",
      "source": [
        "from tensorflow.keras.applications import ResNet50\n",
        "\n",
        "base_model = ResNet50(input_shape= (32, 32,3), include_top=False, weights=\"imagenet\")"
      ],
      "metadata": {
        "id": "tpm3SLa5ZgHR",
        "colab": {
          "base_uri": "https://localhost:8080/"
        },
        "outputId": "3ce364c8-90db-4023-de81-ac8c9582e38b"
      },
      "execution_count": null,
      "outputs": [
        {
          "output_type": "stream",
          "name": "stdout",
          "text": [
            "Downloading data from https://storage.googleapis.com/tensorflow/keras-applications/resnet/resnet50_weights_tf_dim_ordering_tf_kernels_notop.h5\n",
            "94773248/94765736 [==============================] - 0s 0us/step\n",
            "94781440/94765736 [==============================] - 0s 0us/step\n"
          ]
        }
      ]
    },
    {
      "cell_type": "code",
      "source": [
        "for layer in base_model.layers:\n",
        "    layer.trainable = False"
      ],
      "metadata": {
        "id": "V0sRQixUZrZ8"
      },
      "execution_count": null,
      "outputs": []
    },
    {
      "cell_type": "code",
      "source": [
        "from tensorflow.keras.applications import ResNet50\n",
        "from tensorflow.keras.models import Sequential\n",
        "from tensorflow.keras.layers import Dense, Flatten, GlobalAveragePooling2D\n",
        "import tensorflow as tf\n",
        "\n",
        "base_model = Sequential()\n",
        "base_model.add(ResNet50(include_top=False, weights='imagenet', pooling='max'))\n",
        "base_model.add(Dense(1, activation='sigmoid'))"
      ],
      "metadata": {
        "id": "SqnYtoarZrUi"
      },
      "execution_count": null,
      "outputs": []
    },
    {
      "cell_type": "code",
      "source": [
        "base_model.compile(optimizer='Adam', loss = 'binary_crossentropy', metrics = ['acc'])"
      ],
      "metadata": {
        "id": "6j0lfsClZrM-"
      },
      "execution_count": null,
      "outputs": []
    },
    {
      "cell_type": "code",
      "source": [
        "resnet_history = base_model.fit(train_generator, validation_data=validation_generator, steps_per_epoch = 50, epochs = 20)"
      ],
      "metadata": {
        "colab": {
          "base_uri": "https://localhost:8080/"
        },
        "id": "Ik9bRamq_TQg",
        "outputId": "d063eeee-ff0d-4228-8328-eca88106649f"
      },
      "execution_count": null,
      "outputs": [
        {
          "output_type": "stream",
          "name": "stdout",
          "text": [
            "Epoch 1/20\n",
            "50/50 [==============================] - 23s 158ms/step - loss: -226.2101 - acc: 0.0456 - val_loss: -217.6883 - val_acc: 0.0518\n",
            "Epoch 2/20\n",
            "50/50 [==============================] - 7s 141ms/step - loss: -619.0414 - acc: 0.0494 - val_loss: -39.1611 - val_acc: 0.0518\n",
            "Epoch 3/20\n",
            "50/50 [==============================] - 6s 124ms/step - loss: -1111.2277 - acc: 0.0475 - val_loss: -2498.7400 - val_acc: 0.0518\n",
            "Epoch 4/20\n",
            "50/50 [==============================] - 6s 122ms/step - loss: -1829.4297 - acc: 0.0581 - val_loss: -514.3853 - val_acc: 0.0518\n",
            "Epoch 5/20\n",
            "50/50 [==============================] - 6s 121ms/step - loss: -2574.9578 - acc: 0.0494 - val_loss: -2787.3057 - val_acc: 0.0518\n",
            "Epoch 6/20\n",
            "50/50 [==============================] - 6s 121ms/step - loss: -3550.7571 - acc: 0.0507 - val_loss: -4460.4805 - val_acc: 0.0518\n",
            "Epoch 7/20\n",
            "50/50 [==============================] - 6s 122ms/step - loss: -4801.8804 - acc: 0.0475 - val_loss: -3033.9661 - val_acc: 0.0518\n",
            "Epoch 8/20\n",
            "50/50 [==============================] - 7s 130ms/step - loss: -5845.2383 - acc: 0.0507 - val_loss: -4093.3572 - val_acc: 0.0518\n",
            "Epoch 9/20\n",
            "50/50 [==============================] - 6s 121ms/step - loss: -7308.9077 - acc: 0.0544 - val_loss: -4864.8555 - val_acc: 0.0518\n",
            "Epoch 10/20\n",
            "50/50 [==============================] - 6s 121ms/step - loss: -9503.5205 - acc: 0.0538 - val_loss: -5181.5273 - val_acc: 0.0518\n",
            "Epoch 11/20\n",
            "50/50 [==============================] - 6s 120ms/step - loss: -12403.2773 - acc: 0.0494 - val_loss: -17475.0273 - val_acc: 0.0518\n",
            "Epoch 12/20\n",
            "50/50 [==============================] - 6s 120ms/step - loss: -14100.3848 - acc: 0.0550 - val_loss: -5599.6729 - val_acc: 0.0518\n",
            "Epoch 13/20\n",
            "50/50 [==============================] - 6s 120ms/step - loss: -17676.0527 - acc: 0.0513 - val_loss: -30246.6738 - val_acc: 0.0518\n",
            "Epoch 14/20\n",
            "50/50 [==============================] - 6s 122ms/step - loss: -19881.7891 - acc: 0.0500 - val_loss: -15711.1904 - val_acc: 0.0518\n",
            "Epoch 15/20\n",
            "50/50 [==============================] - 6s 120ms/step - loss: -23211.5020 - acc: 0.0531 - val_loss: -22789.2285 - val_acc: 0.0518\n",
            "Epoch 16/20\n",
            "50/50 [==============================] - 6s 120ms/step - loss: -27392.0527 - acc: 0.0525 - val_loss: -15467.7500 - val_acc: 0.0518\n",
            "Epoch 17/20\n",
            "50/50 [==============================] - 6s 123ms/step - loss: -30707.7324 - acc: 0.0532 - val_loss: -74292.6172 - val_acc: 0.0518\n",
            "Epoch 18/20\n",
            "50/50 [==============================] - 6s 121ms/step - loss: -35922.9492 - acc: 0.0594 - val_loss: -68252.8047 - val_acc: 0.0518\n",
            "Epoch 19/20\n",
            "50/50 [==============================] - 6s 121ms/step - loss: -42104.7617 - acc: 0.0413 - val_loss: -73458.3594 - val_acc: 0.0518\n",
            "Epoch 20/20\n",
            "50/50 [==============================] - 6s 121ms/step - loss: -45605.0859 - acc: 0.0550 - val_loss: -72871.8672 - val_acc: 0.0518\n"
          ]
        }
      ]
    },
    {
      "cell_type": "code",
      "source": [
        "import cv2\n",
        "\n",
        "X_train_large, X_test_large, X_val_large = [],[],[]\n",
        "for xt in X_train:\n",
        "  X_train_large.append(cv2.resize(xt, (32,32), interpolation = cv2.INTER_LINEAR))\n",
        "for xtt in X_test:\n",
        "  X_test_large.append(cv2.resize(xtt, (32,32), interpolation = cv2.INTER_LINEAR))\n",
        "for xv in X_val:\n",
        "  X_val_large.append(cv2.resize(xv, (32,32), interpolation = cv2.INTER_LINEAR))\n",
        "\n",
        "X_train_large, X_test_large, X_val_large = np.array(X_train_large), np.array(X_test_large), np.array(X_val_large)"
      ],
      "metadata": {
        "id": "VA-f68ZMTC48"
      },
      "execution_count": null,
      "outputs": []
    },
    {
      "cell_type": "code",
      "source": [
        "base_model=model"
      ],
      "metadata": {
        "id": "6uVFV00IZTIG"
      },
      "execution_count": null,
      "outputs": []
    },
    {
      "cell_type": "code",
      "source": [
        "y_proba = base_model.predict(X_test/255)\n",
        "y_pred = np.argmax(y_proba, axis=-1)\n",
        "# y_pred=np.array([i[0] for i in y_pred ],dtype=np.int32)"
      ],
      "metadata": {
        "id": "TJi3n1_FTBDQ"
      },
      "execution_count": null,
      "outputs": []
    },
    {
      "cell_type": "code",
      "source": [
        "y_pred_name = np.array(labels)[y_pred]\n",
        "\n",
        "plt.figure(figsize=(20,10))\n",
        "for i in range(5):\n",
        "    plt.subplot(5,1,i+1)\n",
        "    plt.imshow(X_test_large[i])\n",
        "    plt.title('True label: {}, \\nPrediction: {}'.format(labels[y_test[i].argmax()], y_pred_name[i]))\n",
        "plt.tight_layout()"
      ],
      "metadata": {
        "colab": {
          "base_uri": "https://localhost:8080/",
          "height": 729
        },
        "id": "Mi8tcR7dTjfP",
        "outputId": "a82d67a3-99cc-4bdb-8992-30e887978258"
      },
      "execution_count": null,
      "outputs": [
        {
          "output_type": "display_data",
          "data": {
            "text/plain": [
              "<Figure size 1440x720 with 5 Axes>"
            ],
            "image/png": "[encoded data removed]"
          },
          "metadata": {
            "needs_background": "light"
          }
        }
      ]
    },
    {
      "cell_type": "code",
      "source": [
        "from sklearn.metrics import confusion_matrix, classification_report, ConfusionMatrixDisplay\n",
        "\n",
        "cm = confusion_matrix(y_test, y_pred)\n",
        "cm_display = ConfusionMatrixDisplay(cm,display_labels=labels)\n",
        "fig, ax = plt.subplots(figsize=(10,10))\n",
        "cm_display.plot(ax=ax)\n",
        "plt.show()"
      ],
      "metadata": {
        "colab": {
          "base_uri": "https://localhost:8080/",
          "height": 580
        },
        "id": "QYD4NfgjOrww",
        "outputId": "10631457-ece4-4e81-c63b-75090bbe3db3"
      },
      "execution_count": null,
      "outputs": [
        {
          "output_type": "display_data",
          "data": {
            "text/plain": [
              "<Figure size 720x720 with 2 Axes>"
            ],
            "image/png": "[encoded data removed]"
          },
          "metadata": {
            "needs_background": "light"
          }
        }
      ]
    },
    {
      "cell_type": "code",
      "source": [
        "print(classification_report(y_test, y_pred, target_names = labels))"
      ],
      "metadata": {
        "colab": {
          "base_uri": "https://localhost:8080/"
        },
        "id": "9M2fl4rgOrnw",
        "outputId": "c3375371-8d0b-48e7-90d6-b3a97e50aef7"
      },
      "execution_count": null,
      "outputs": [
        {
          "output_type": "stream",
          "name": "stdout",
          "text": [
            "              precision    recall  f1-score   support\n",
            "\n",
            "        akic       0.28      0.56      0.37        66\n",
            "       bccar       0.39      0.65      0.49       103\n",
            "        bkll       0.56      0.46      0.50       220\n",
            "          df       0.30      0.48      0.37        23\n",
            "    melanoma       0.37      0.56      0.45       223\n",
            "    mel-nevi       0.92      0.76      0.83      1341\n",
            "    vas-lesi       0.62      0.83      0.71        29\n",
            "\n",
            "    accuracy                           0.69      2005\n",
            "   macro avg       0.49      0.61      0.53      2005\n",
            "weighted avg       0.76      0.69      0.71      2005\n",
            "\n"
          ]
        }
      ]
    },
    {
      "cell_type": "code",
      "source": [],
      "metadata": {
        "id": "0V23VHjXOrml"
      },
      "execution_count": null,
      "outputs": []
    },
    {
      "cell_type": "markdown",
      "source": [],
      "metadata": {
        "id": "W9i7AJOMKjJJ"
      }
    },
    {
      "cell_type": "markdown",
      "source": [
        "#VGG16"
      ],
      "metadata": {
        "id": "OyfuNo2THUeX"
      }
    },
    {
      "cell_type": "code",
      "source": [
        "from tensorflow.keras.preprocessing.image import ImageDataGenerator\n",
        "from tensorflow.keras.utils import to_categorical\n",
        "\n",
        "\n",
        "train_datagen = ImageDataGenerator(rescale = 1./255,\n",
        "                                  rotation_range = 10,\n",
        "                                  width_shift_range = 0.2,\n",
        "                                  height_shift_range = 0.2,\n",
        "                                  shear_range = 0.2,\n",
        "                                  horizontal_flip = True,\n",
        "                                  vertical_flip = True,\n",
        "                                  fill_mode = 'wrap')\n",
        "X_train = tf.image.resize(X_train, [32,32]) # if we want to resize\n",
        "X_val = tf.image.resize(X_val, [32,32]) # if we want to resize\n",
        "\n",
        "X_test =tf.image.resize(X_test, [32,32]) # if we want to resize\n",
        "\n",
        "train_data = train_datagen.flow(X_train, to_categorical(y_train),\n",
        "                                batch_size=50,\n",
        "                                seed=1)\n",
        "\n",
        "\n",
        "val_datagen = ImageDataGenerator(rescale = 1./255)\n",
        "\n",
        "val_data = val_datagen.flow(X_val, to_categorical(y_val),\n",
        "                             batch_size=50,\n",
        "                             seed=1)"
      ],
      "metadata": {
        "id": "4EgbftExHg50"
      },
      "execution_count": null,
      "outputs": []
    },
    {
      "cell_type": "code",
      "source": [
        "from tensorflow.keras.applications.vgg16 import VGG16\n",
        "base_model = VGG16(input_shape = (32,32,3), # Shape of our images\n",
        "include_top = False, # Leave out the last fully connected layer\n",
        "weights = 'imagenet')"
      ],
      "metadata": {
        "id": "Fl8v5f2KHHs1"
      },
      "execution_count": null,
      "outputs": []
    },
    {
      "cell_type": "code",
      "source": [
        "for layer in base_model.layers:\n",
        "    layer.trainable = False"
      ],
      "metadata": {
        "id": "-s1fAcD_kNSS"
      },
      "execution_count": null,
      "outputs": []
    },
    {
      "cell_type": "code",
      "source": [
        "from tensorflow.python.keras import layers\n",
        "from keras import metrics\n",
        "# Flatten the output layer to 1 dimension\n",
        "x = layers.Flatten(base_model.output)\n",
        "\n",
        "# Add a fully connected layer with 512 hidden units and ReLU activation\n",
        "x = layers.Dense(512, activation='relu')(x)\n",
        "\n",
        "# Add a dropout rate of 0.5\n",
        "x = layers.Dropout(0.5)(x)\n",
        "\n",
        "# Add a final sigmoid layer for classification\n",
        "x = layers.Dense(1, activation='sigmoid')(x)\n",
        "\n",
        "model = tf.keras.models.Model(base_model.input, x)\n",
        "#[metrics.mae, metrics.categorical_accuracy]\n",
        "#'acc'\n",
        "#['accuracy', f1_score, precision, recall]\n",
        "model.compile(optimizer = tf.keras.optimizers.RMSprop(lr=0.0001), loss = 'binary_crossentropy',metrics = 'acc')"
      ],
      "metadata": {
        "id": "3vLtxQYpHmgG"
      },
      "execution_count": null,
      "outputs": []
    },
    {
      "cell_type": "code",
      "source": [
        "vgghist = model.fit(train_generator, validation_data = validation_generator, steps_per_epoch = 100, epochs = 10)"
      ],
      "metadata": {
        "id": "cNFnB3lwHpc3"
      },
      "execution_count": null,
      "outputs": []
    },
    {
      "cell_type": "code",
      "source": [],
      "metadata": {
        "id": "cZMZ4KxUJmBl"
      },
      "execution_count": null,
      "outputs": []
    }
  ],
  "metadata": {
    "kernelspec": {
      "display_name": "Python 3",
      "name": "python3"
    },
    "language_info": {
      "name": "python"
    },
    "toc": {
      "base_numbering": 1,
      "nav_menu": {},
      "number_sections": true,
      "sideBar": true,
      "skip_h1_title": false,
      "title_cell": "Table of Contents",
      "title_sidebar": "Contents",
      "toc_cell": false,
      "toc_position": {},
      "toc_section_display": true,
      "toc_window_display": true
    },
    "varInspector": {
      "cols": {
        "lenName": 16,
        "lenType": 16,
        "lenVar": 40
      },
      "kernels_config": {
        "python": {
          "delete_cmd_postfix": "",
          "delete_cmd_prefix": "del ",
          "library": "var_list.py",
          "varRefreshCmd": "print(var_dic_list())"
        },
        "r": {
          "delete_cmd_postfix": ") ",
          "delete_cmd_prefix": "rm(",
          "library": "var_list.r",
          "varRefreshCmd": "cat(var_dic_list()) "
        }
      },
      "position": {
        "height": "279.844px",
        "left": "996px",
        "right": "20px",
        "top": "120px",
        "width": "350px"
      },
      "types_to_exclude": [
        "module",
        "function",
        "builtin_function_or_method",
        "instance",
        "_Feature"
      ],
      "window_display": false
    },
    "colab": {
      "provenance": [],
      "toc_visible": true
    },
    "accelerator": "GPU",
    "widgets": {
      "application/vnd.jupyter.widget-state+json": {
        "222b0d11b2d846e5883eab1acfb043db": {
          "model_module": "@jupyter-widgets/controls",
          "model_name": "HBoxModel",
          "model_module_version": "1.5.0",
          "state": {
            "_dom_classes": [],
            "_model_module": "@jupyter-widgets/controls",
            "_model_module_version": "1.5.0",
            "_model_name": "HBoxModel",
            "_view_count": null,
            "_view_module": "@jupyter-widgets/controls",
            "_view_module_version": "1.5.0",
            "_view_name": "HBoxView",
            "box_style": "",
            "children": [
              "IPY_MODEL_8f733c2229f64eca81d508a9d81345cd",
              "IPY_MODEL_971098983f994b3dbbf26624217d6552",
              "IPY_MODEL_e5796f79655c40468adab3c86d9c4fb4"
            ],
            "layout": "IPY_MODEL_0c5eb4d99bb444a8a18c43e7b3a35b0e"
          }
        },
        "8f733c2229f64eca81d508a9d81345cd": {
          "model_module": "@jupyter-widgets/controls",
          "model_name": "HTMLModel",
          "model_module_version": "1.5.0",
          "state": {
            "_dom_classes": [],
            "_model_module": "@jupyter-widgets/controls",
            "_model_module_version": "1.5.0",
            "_model_name": "HTMLModel",
            "_view_count": null,
            "_view_module": "@jupyter-widgets/controls",
            "_view_module_version": "1.5.0",
            "_view_name": "HTMLView",
            "description": "",
            "description_tooltip": null,
            "layout": "IPY_MODEL_0f958096761e4612b2aa7058bfab5ca9",
            "placeholder": "​",
            "style": "IPY_MODEL_557cd7648d7f43b3b8217021800d0357",
            "value": ""
          }
        },
        "971098983f994b3dbbf26624217d6552": {
          "model_module": "@jupyter-widgets/controls",
          "model_name": "FloatProgressModel",
          "model_module_version": "1.5.0",
          "state": {
            "_dom_classes": [],
            "_model_module": "@jupyter-widgets/controls",
            "_model_module_version": "1.5.0",
            "_model_name": "FloatProgressModel",
            "_view_count": null,
            "_view_module": "@jupyter-widgets/controls",
            "_view_module_version": "1.5.0",
            "_view_name": "ProgressView",
            "bar_style": "success",
            "description": "",
            "description_tooltip": null,
            "layout": "IPY_MODEL_c2a9864674ac46949a7cbc7c3898be3b",
            "max": 19725078,
            "min": 0,
            "orientation": "horizontal",
            "style": "IPY_MODEL_142c4ef856a54b48ae2c93e93c68fd75",
            "value": 19725078
          }
        },
        "e5796f79655c40468adab3c86d9c4fb4": {
          "model_module": "@jupyter-widgets/controls",
          "model_name": "HTMLModel",
          "model_module_version": "1.5.0",
          "state": {
            "_dom_classes": [],
            "_model_module": "@jupyter-widgets/controls",
            "_model_module_version": "1.5.0",
            "_model_name": "HTMLModel",
            "_view_count": null,
            "_view_module": "@jupyter-widgets/controls",
            "_view_module_version": "1.5.0",
            "_view_name": "HTMLView",
            "description": "",
            "description_tooltip": null,
            "layout": "IPY_MODEL_93a9015515694345af33bfb4e2923bbf",
            "placeholder": "​",
            "style": "IPY_MODEL_84ee2091dc154171808e92cc5b04052a",
            "value": " 19725312/? [00:02&lt;00:00, 14373395.77it/s]"
          }
        },
        "0c5eb4d99bb444a8a18c43e7b3a35b0e": {
          "model_module": "@jupyter-widgets/base",
          "model_name": "LayoutModel",
          "model_module_version": "1.2.0",
          "state": {
            "_model_module": "@jupyter-widgets/base",
            "_model_module_version": "1.2.0",
            "_model_name": "LayoutModel",
            "_view_count": null,
            "_view_module": "@jupyter-widgets/base",
            "_view_module_version": "1.2.0",
            "_view_name": "LayoutView",
            "align_content": null,
            "align_items": null,
            "align_self": null,
            "border": null,
            "bottom": null,
            "display": null,
            "flex": null,
            "flex_flow": null,
            "grid_area": null,
            "grid_auto_columns": null,
            "grid_auto_flow": null,
            "grid_auto_rows": null,
            "grid_column": null,
            "grid_gap": null,
            "grid_row": null,
            "grid_template_areas": null,
            "grid_template_columns": null,
            "grid_template_rows": null,
            "height": null,
            "justify_content": null,
            "justify_items": null,
            "left": null,
            "margin": null,
            "max_height": null,
            "max_width": null,
            "min_height": null,
            "min_width": null,
            "object_fit": null,
            "object_position": null,
            "order": null,
            "overflow": null,
            "overflow_x": null,
            "overflow_y": null,
            "padding": null,
            "right": null,
            "top": null,
            "visibility": null,
            "width": null
          }
        },
        "0f958096761e4612b2aa7058bfab5ca9": {
          "model_module": "@jupyter-widgets/base",
          "model_name": "LayoutModel",
          "model_module_version": "1.2.0",
          "state": {
            "_model_module": "@jupyter-widgets/base",
            "_model_module_version": "1.2.0",
            "_model_name": "LayoutModel",
            "_view_count": null,
            "_view_module": "@jupyter-widgets/base",
            "_view_module_version": "1.2.0",
            "_view_name": "LayoutView",
            "align_content": null,
            "align_items": null,
            "align_self": null,
            "border": null,
            "bottom": null,
            "display": null,
            "flex": null,
            "flex_flow": null,
            "grid_area": null,
            "grid_auto_columns": null,
            "grid_auto_flow": null,
            "grid_auto_rows": null,
            "grid_column": null,
            "grid_gap": null,
            "grid_row": null,
            "grid_template_areas": null,
            "grid_template_columns": null,
            "grid_template_rows": null,
            "height": null,
            "justify_content": null,
            "justify_items": null,
            "left": null,
            "margin": null,
            "max_height": null,
            "max_width": null,
            "min_height": null,
            "min_width": null,
            "object_fit": null,
            "object_position": null,
            "order": null,
            "overflow": null,
            "overflow_x": null,
            "overflow_y": null,
            "padding": null,
            "right": null,
            "top": null,
            "visibility": null,
            "width": null
          }
        },
        "557cd7648d7f43b3b8217021800d0357": {
          "model_module": "@jupyter-widgets/controls",
          "model_name": "DescriptionStyleModel",
          "model_module_version": "1.5.0",
          "state": {
            "_model_module": "@jupyter-widgets/controls",
            "_model_module_version": "1.5.0",
            "_model_name": "DescriptionStyleModel",
            "_view_count": null,
            "_view_module": "@jupyter-widgets/base",
            "_view_module_version": "1.2.0",
            "_view_name": "StyleView",
            "description_width": ""
          }
        },
        "c2a9864674ac46949a7cbc7c3898be3b": {
          "model_module": "@jupyter-widgets/base",
          "model_name": "LayoutModel",
          "model_module_version": "1.2.0",
          "state": {
            "_model_module": "@jupyter-widgets/base",
            "_model_module_version": "1.2.0",
            "_model_name": "LayoutModel",
            "_view_count": null,
            "_view_module": "@jupyter-widgets/base",
            "_view_module_version": "1.2.0",
            "_view_name": "LayoutView",
            "align_content": null,
            "align_items": null,
            "align_self": null,
            "border": null,
            "bottom": null,
            "display": null,
            "flex": null,
            "flex_flow": null,
            "grid_area": null,
            "grid_auto_columns": null,
            "grid_auto_flow": null,
            "grid_auto_rows": null,
            "grid_column": null,
            "grid_gap": null,
            "grid_row": null,
            "grid_template_areas": null,
            "grid_template_columns": null,
            "grid_template_rows": null,
            "height": null,
            "justify_content": null,
            "justify_items": null,
            "left": null,
            "margin": null,
            "max_height": null,
            "max_width": null,
            "min_height": null,
            "min_width": null,
            "object_fit": null,
            "object_position": null,
            "order": null,
            "overflow": null,
            "overflow_x": null,
            "overflow_y": null,
            "padding": null,
            "right": null,
            "top": null,
            "visibility": null,
            "width": null
          }
        },
        "142c4ef856a54b48ae2c93e93c68fd75": {
          "model_module": "@jupyter-widgets/controls",
          "model_name": "ProgressStyleModel",
          "model_module_version": "1.5.0",
          "state": {
            "_model_module": "@jupyter-widgets/controls",
            "_model_module_version": "1.5.0",
            "_model_name": "ProgressStyleModel",
            "_view_count": null,
            "_view_module": "@jupyter-widgets/base",
            "_view_module_version": "1.2.0",
            "_view_name": "StyleView",
            "bar_color": null,
            "description_width": ""
          }
        },
        "93a9015515694345af33bfb4e2923bbf": {
          "model_module": "@jupyter-widgets/base",
          "model_name": "LayoutModel",
          "model_module_version": "1.2.0",
          "state": {
            "_model_module": "@jupyter-widgets/base",
            "_model_module_version": "1.2.0",
            "_model_name": "LayoutModel",
            "_view_count": null,
            "_view_module": "@jupyter-widgets/base",
            "_view_module_version": "1.2.0",
            "_view_name": "LayoutView",
            "align_content": null,
            "align_items": null,
            "align_self": null,
            "border": null,
            "bottom": null,
            "display": null,
            "flex": null,
            "flex_flow": null,
            "grid_area": null,
            "grid_auto_columns": null,
            "grid_auto_flow": null,
            "grid_auto_rows": null,
            "grid_column": null,
            "grid_gap": null,
            "grid_row": null,
            "grid_template_areas": null,
            "grid_template_columns": null,
            "grid_template_rows": null,
            "height": null,
            "justify_content": null,
            "justify_items": null,
            "left": null,
            "margin": null,
            "max_height": null,
            "max_width": null,
            "min_height": null,
            "min_width": null,
            "object_fit": null,
            "object_position": null,
            "order": null,
            "overflow": null,
            "overflow_x": null,
            "overflow_y": null,
            "padding": null,
            "right": null,
            "top": null,
            "visibility": null,
            "width": null
          }
        },
        "84ee2091dc154171808e92cc5b04052a": {
          "model_module": "@jupyter-widgets/controls",
          "model_name": "DescriptionStyleModel",
          "model_module_version": "1.5.0",
          "state": {
            "_model_module": "@jupyter-widgets/controls",
            "_model_module_version": "1.5.0",
            "_model_name": "DescriptionStyleModel",
            "_view_count": null,
            "_view_module": "@jupyter-widgets/base",
            "_view_module_version": "1.2.0",
            "_view_name": "StyleView",
            "description_width": ""
          }
        }
      }
    }
  },
  "nbformat": 4,
  "nbformat_minor": 0
}